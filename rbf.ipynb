{
 "cells": [
  {
   "cell_type": "code",
   "execution_count": 4,
   "metadata": {},
   "outputs": [
    {
     "name": "stdout",
     "output_type": "stream",
     "text": [
      "(4, 2)\n",
      "input [[0 0]\n",
      " [0 1]\n",
      " [1 0]\n",
      " [1 1]]\n",
      "output [0.51281763 0.5        0.48718237 0.47438157]\n"
     ]
    }
   ],
   "source": [
    "import numpy as np\n",
    "class Perceptron(object):\n",
    "    def __init__(self,eta=0.31,n_iter=20):\n",
    "        self.eta=eta\n",
    "        self.n_iter=n_iter\n",
    "    def fit(self,x,y):\n",
    "        self.w=np.zeros(1+x.shape[1])\n",
    "        k=1\n",
    "        for _ in range(self.n_iter):\n",
    "            flag=0\n",
    "            for xi,target in zip(x,y):\n",
    "                \n",
    "                error=target-self.predict(xi)\n",
    "                if error!=0:\n",
    "                    flag=1\n",
    "                    update=self.eta*error\n",
    "                    self.w[1:]+=update*xi\n",
    "                    self.w[0]+=update\n",
    "            k+=1\n",
    "            if flag==0:\n",
    "                break\n",
    "        return self\n",
    "    def radial(x):\n",
    "        c1=np.array([0,0])\n",
    "        c2=np.array([1,1])\n",
    "        x1=np.exp(-(abs(x-c1))**2)\n",
    "        x2=np.exp(-(abs(x-c2))**2)\n",
    "        return x1,x2\n",
    "    def net_input(self,x):\n",
    "        y=np.dot(x,self.w[1:])+self.w[0]\n",
    "        return y\n",
    "    def predict(self,x):\n",
    "        z=self.net_input(x)\n",
    "        return(1/(1+np.exp(-z)))\n",
    "x=np.array([[0,0],[0,1],[1,0],[1,1]])\n",
    "print(x.shape)\n",
    "print(\"input\",x)\n",
    "y=np.array([0,1,1,0])\n",
    "ppn=Perceptron(eta=0.1,n_iter=50000)\n",
    "ppn.fit(x,y)\n",
    "print(\"output\",ppn.predict(x))\n",
    "    "
   ]
  },
  {
   "cell_type": "code",
   "execution_count": 5,
   "metadata": {},
   "outputs": [
    {
     "name": "stdout",
     "output_type": "stream",
     "text": [
      "1.0 0.01831563888873418\n",
      "0.36787944117144233 0.36787944117144233\n",
      "0.36787944117144233 0.36787944117144233\n",
      "0.01831563888873418 1.0\n"
     ]
    }
   ],
   "source": [
    "def radial(x):\n",
    "    for i in x:\n",
    "        c1=np.array([0,0])\n",
    "        c2=np.array([1,1])\n",
    "        x1=np.exp(-((abs(i-c1).sum())**2))\n",
    "        x2=np.exp(-((abs(i-c2).sum())**2))\n",
    "        x3=np.array([x1,x2])\n",
    "        print(x1,x2)\n",
    "        \n",
    "x=np.array([[0,0],[0,1],[1,0],[1,1]])\n",
    "radial(x)"
   ]
  },
  {
   "cell_type": "code",
   "execution_count": null,
   "metadata": {},
   "outputs": [],
   "source": []
  }
 ],
 "metadata": {
  "kernelspec": {
   "display_name": "Python 3",
   "language": "python",
   "name": "python3"
  },
  "language_info": {
   "codemirror_mode": {
    "name": "ipython",
    "version": 3
   },
   "file_extension": ".py",
   "mimetype": "text/x-python",
   "name": "python",
   "nbconvert_exporter": "python",
   "pygments_lexer": "ipython3",
   "version": "3.6.4"
  }
 },
 "nbformat": 4,
 "nbformat_minor": 2
}
