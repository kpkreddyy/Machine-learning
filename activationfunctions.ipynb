{
 "cells": [
  {
   "cell_type": "code",
   "execution_count": 2,
   "metadata": {},
   "outputs": [
    {
     "data": {
      "image/png": "[encoded data removed]",
      "text/plain": [
       "<matplotlib.figure.Figure at 0x23cd6877240>"
      ]
     },
     "metadata": {},
     "output_type": "display_data"
    }
   ],
   "source": [
    "import matplotlib.pyplot as plt\n",
    "import numpy as np\n",
    "x=np.linspace(-10,10,100)\n",
    "y=x\n",
    "plt.subplot(2,1,1)\n",
    "plt.plot(x,y,'g--')\n",
    "plt.title(\"identity\")\n",
    "plt.subplot(2,2,2)\n",
    "y1=[]\n",
    "i=0\n",
    "while(i<len(x)):\n",
    "    if(x[i]>=1):\n",
    "        y1.append(1)\n",
    "    if(x[i]<1):\n",
    "        y1.append(0)\n",
    "    i=i+1\n",
    "plt.plot(x,y1,'b--')\n",
    "plt.title(\"binary\")\n",
    "plt.subplot(2,2,3)\n",
    "y2=[]\n",
    "i=0\n",
    "while(i<len(x)):\n",
    "    if(x[i]>=1):\n",
    "        y2.append(1)\n",
    "    if(x[i]<1):\n",
    "        y2.append(-1)\n",
    "    i=i+1\n",
    "plt.plot(x,y2,'r--')\n",
    "plt.title(\"bipolar\")\n",
    "plt.show()"
   ]
  },
  {
   "cell_type": "code",
   "execution_count": null,
   "metadata": {},
   "outputs": [],
   "source": []
  },
  {
   "cell_type": "code",
   "execution_count": null,
   "metadata": {},
   "outputs": [],
   "source": []
  }
 ],
 "metadata": {
  "kernelspec": {
   "display_name": "Python 3",
   "language": "python",
   "name": "python3"
  },
  "language_info": {
   "codemirror_mode": {
    "name": "ipython",
    "version": 3
   },
   "file_extension": ".py",
   "mimetype": "text/x-python",
   "name": "python",
   "nbconvert_exporter": "python",
   "pygments_lexer": "ipython3",
   "version": "3.6.4"
  }
 },
 "nbformat": 4,
 "nbformat_minor": 2
}
