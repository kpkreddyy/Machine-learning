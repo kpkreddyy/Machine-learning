{
 "cells": [
  {
   "cell_type": "code",
   "execution_count": 3,
   "metadata": {},
   "outputs": [
    {
     "name": "stdout",
     "output_type": "stream",
     "text": [
      "for input [0 0 1 1]\n",
      "neuron at position 0 won\n",
      "[[0.1 0.9]\n",
      " [0.2 0.7]\n",
      " [0.8 0.5]\n",
      " [0.9 0.3]]\n",
      "for input [1 0 0 0]\n",
      "neuron at position 1 won\n",
      "[[0.1  0.95]\n",
      " [0.2  0.35]\n",
      " [0.8  0.25]\n",
      " [0.9  0.15]]\n",
      "for input [0 1 1 0]\n",
      "neuron at position 0 won\n",
      "[[0.05 0.95]\n",
      " [0.6  0.35]\n",
      " [0.9  0.25]\n",
      " [0.45 0.15]]\n",
      "for input [0 0 0 1]\n",
      "neuron at position 0 won\n",
      "[[0.025 0.95 ]\n",
      " [0.3   0.35 ]\n",
      " [0.45  0.25 ]\n",
      " [0.725 0.15 ]]\n",
      "for input [0 0 1 1]\n",
      "neuron at position 0 won\n",
      "[[0.01875 0.95   ]\n",
      " [0.225   0.35   ]\n",
      " [0.5875  0.25   ]\n",
      " [0.79375 0.15   ]]\n",
      "for input [1 0 0 0]\n",
      "neuron at position 1 won\n",
      "[[0.01875 0.9625 ]\n",
      " [0.225   0.2625 ]\n",
      " [0.5875  0.1875 ]\n",
      " [0.79375 0.1125 ]]\n",
      "for input [0 1 1 0]\n",
      "neuron at position 0 won\n",
      "[[0.0140625 0.9625   ]\n",
      " [0.41875   0.2625   ]\n",
      " [0.690625  0.1875   ]\n",
      " [0.5953125 0.1125   ]]\n",
      "for input [0 0 0 1]\n",
      "neuron at position 0 won\n",
      "[[0.01054688 0.9625    ]\n",
      " [0.3140625  0.2625    ]\n",
      " [0.51796875 0.1875    ]\n",
      " [0.69648438 0.1125    ]]\n"
     ]
    }
   ],
   "source": [
    "import numpy as np\n",
    "X=np.array([[0,0,1,1],[1,0,0,0],[0,1,1,0],[0,0,0,1]])\n",
    "W_=np.array([[0.2,0.9],[0.4,0.7],[0.6,0.5],[0.8,0.3]])\n",
    "lr=0.5\n",
    "epoch=2\n",
    "for iter in range(epoch):\n",
    "    for i in range(X.shape[0]):\n",
    "        temp=[]\n",
    "        print(\"for input\",X[i,:])\n",
    "        for j in range(W_.shape[1]):\n",
    "            sum=0\n",
    "            for k in range(W_.shape[0]):\n",
    "                \n",
    "                sum=sum+((X[i][k]-W_[k][j])**2)\n",
    "            temp.append(sum)\n",
    "        if(temp[0]<temp[1]):\n",
    "            index=0\n",
    "        else:\n",
    "            index=1\n",
    "        print(\"neuron at position\",index,\"won\")\n",
    "        for p in range(W_.shape[0]):\n",
    "            W_[p][index]=W_[p][index]+lr*(X[i][p]-W_[p][index])\n",
    "        print(W_)\n",
    "    lr=lr*0.5"
   ]
  },
  {
   "cell_type": "code",
   "execution_count": null,
   "metadata": {},
   "outputs": [],
   "source": []
  }
 ],
 "metadata": {
  "kernelspec": {
   "display_name": "Python 3",
   "language": "python",
   "name": "python3"
  },
  "language_info": {
   "codemirror_mode": {
    "name": "ipython",
    "version": 3
   },
   "file_extension": ".py",
   "mimetype": "text/x-python",
   "name": "python",
   "nbconvert_exporter": "python",
   "pygments_lexer": "ipython3",
   "version": "3.6.4"
  }
 },
 "nbformat": 4,
 "nbformat_minor": 2
}
